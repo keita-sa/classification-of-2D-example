{
 "cells": [
  {
   "cell_type": "code",
   "execution_count": 1,
   "id": "bd8f09c4",
   "metadata": {},
   "outputs": [],
   "source": [
    "import numpy as np\n",
    "\n",
    "from sklearn.datasets import load_breast_cancer\n",
    "data = load_breast_cancer()\n",
    "\n",
    "X = data.data\n",
    "y = data.target\n",
    "\n",
    "from sklearn import linear_model\n",
    "clf = linear_model.LogisticRegression(solver='liblinear')"
   ]
  },
  {
   "cell_type": "markdown",
   "id": "7dda3dcb",
   "metadata": {},
   "source": [
    "leave-one-out"
   ]
  },
  {
   "cell_type": "code",
   "execution_count": 2,
   "id": "2a422da6",
   "metadata": {},
   "outputs": [],
   "source": [
    "from sklearn.model_selection import LeaveOneOut\n",
    "loocv = LeaveOneOut()"
   ]
  },
  {
   "cell_type": "code",
   "execution_count": 3,
   "id": "feddc7c7",
   "metadata": {},
   "outputs": [],
   "source": [
    "train_index, test_index = next(loocv.split(X, y)) # １つだけ"
   ]
  },
  {
   "cell_type": "code",
   "execution_count": 4,
   "id": "a0169e34",
   "metadata": {},
   "outputs": [
    {
     "data": {
      "text/plain": [
       "(569, 568, 1)"
      ]
     },
     "execution_count": 4,
     "metadata": {},
     "output_type": "execute_result"
    }
   ],
   "source": [
    "y.size, train_index.size, test_index.size # サイズを見てみる"
   ]
  },
  {
   "cell_type": "code",
   "execution_count": 5,
   "id": "9fa4b49f",
   "metadata": {},
   "outputs": [],
   "source": [
    "from sklearn.model_selection import cross_val_score\n",
    "scores = cross_val_score(clf, X, y, cv=loocv) # LeaveOneOut"
   ]
  },
  {
   "cell_type": "code",
   "execution_count": 6,
   "id": "019556cb",
   "metadata": {},
   "outputs": [
    {
     "data": {
      "text/plain": [
       "(95.07908611599298, 21.630441395100792, 569)"
      ]
     },
     "execution_count": 6,
     "metadata": {},
     "output_type": "execute_result"
    }
   ],
   "source": [
    "scores.mean()*100, scores.std()*100, scores.size # 95%, 標準偏差（かなりバラつきがある）, "
   ]
  },
  {
   "cell_type": "code",
   "execution_count": null,
   "id": "237cbff8",
   "metadata": {},
   "outputs": [],
   "source": []
  },
  {
   "cell_type": "code",
   "execution_count": null,
   "id": "164e5e52",
   "metadata": {},
   "outputs": [],
   "source": []
  },
  {
   "cell_type": "code",
   "execution_count": null,
   "id": "403958bd",
   "metadata": {},
   "outputs": [],
   "source": []
  },
  {
   "cell_type": "markdown",
   "id": "56d37e86",
   "metadata": {},
   "source": [
    "leave p out"
   ]
  },
  {
   "cell_type": "code",
   "execution_count": 7,
   "id": "25043782",
   "metadata": {},
   "outputs": [],
   "source": [
    "from sklearn.model_selection import LeavePOut\n",
    "loocv = LeavePOut(2)\n",
    "# scores = cross_val_score(clf, X, y, cv=loocv) # LeavePOut 終わらない！ n_C_2オーダー\n",
    "# scores.mean(), scores.std(), scores.size"
   ]
  },
  {
   "cell_type": "code",
   "execution_count": null,
   "id": "2b17f5d2",
   "metadata": {},
   "outputs": [],
   "source": []
  },
  {
   "cell_type": "code",
   "execution_count": null,
   "id": "a23a4379",
   "metadata": {},
   "outputs": [],
   "source": []
  },
  {
   "cell_type": "code",
   "execution_count": null,
   "id": "464a9dc4",
   "metadata": {},
   "outputs": [],
   "source": []
  },
  {
   "cell_type": "markdown",
   "id": "7d325385",
   "metadata": {},
   "source": [
    "leave one-group out"
   ]
  },
  {
   "cell_type": "code",
   "execution_count": 8,
   "id": "32d2270f",
   "metadata": {},
   "outputs": [
    {
     "data": {
      "text/plain": [
       "569"
      ]
     },
     "execution_count": 8,
     "metadata": {},
     "output_type": "execute_result"
    }
   ],
   "source": [
    "group = np.array(list(range(50))*12)\n",
    "group = np.sort(group[:y.size])\n",
    "group.size"
   ]
  },
  {
   "cell_type": "code",
   "execution_count": 9,
   "id": "961a9817",
   "metadata": {},
   "outputs": [
    {
     "data": {
      "text/plain": [
       "array([ 0,  0,  0,  0,  0,  0,  0,  0,  0,  0,  0,  0,  1,  1,  1,  1,  1,\n",
       "        1,  1,  1,  1,  1,  1,  1,  2,  2,  2,  2,  2,  2,  2,  2,  2,  2,\n",
       "        2,  2,  3,  3,  3,  3,  3,  3,  3,  3,  3,  3,  3,  3,  4,  4,  4,\n",
       "        4,  4,  4,  4,  4,  4,  4,  4,  4,  5,  5,  5,  5,  5,  5,  5,  5,\n",
       "        5,  5,  5,  5,  6,  6,  6,  6,  6,  6,  6,  6,  6,  6,  6,  6,  7,\n",
       "        7,  7,  7,  7,  7,  7,  7,  7,  7,  7,  7,  8,  8,  8,  8,  8,  8,\n",
       "        8,  8,  8,  8,  8,  8,  9,  9,  9,  9,  9,  9,  9,  9,  9,  9,  9,\n",
       "        9, 10, 10, 10, 10, 10, 10, 10, 10, 10, 10, 10, 10, 11, 11, 11, 11,\n",
       "       11, 11, 11, 11, 11, 11, 11, 11, 12, 12, 12, 12, 12, 12, 12, 12, 12,\n",
       "       12, 12, 12, 13, 13, 13, 13, 13, 13, 13, 13, 13, 13, 13, 13, 14, 14,\n",
       "       14, 14, 14, 14, 14, 14, 14, 14, 14, 14, 15, 15, 15, 15, 15, 15, 15,\n",
       "       15, 15, 15, 15, 15, 16, 16, 16, 16, 16, 16, 16, 16, 16, 16, 16, 16,\n",
       "       17, 17, 17, 17, 17, 17, 17, 17, 17, 17, 17, 17, 18, 18, 18, 18, 18,\n",
       "       18, 18, 18, 18, 18, 18, 18, 19, 19, 19, 19, 19, 19, 19, 19, 19, 19,\n",
       "       19, 20, 20, 20, 20, 20, 20, 20, 20, 20, 20, 20, 21, 21, 21, 21, 21,\n",
       "       21, 21, 21, 21, 21, 21, 22, 22, 22, 22, 22, 22, 22, 22, 22, 22, 22,\n",
       "       23, 23, 23, 23, 23, 23, 23, 23, 23, 23, 23, 24, 24, 24, 24, 24, 24,\n",
       "       24, 24, 24, 24, 24, 25, 25, 25, 25, 25, 25, 25, 25, 25, 25, 25, 26,\n",
       "       26, 26, 26, 26, 26, 26, 26, 26, 26, 26, 27, 27, 27, 27, 27, 27, 27,\n",
       "       27, 27, 27, 27, 28, 28, 28, 28, 28, 28, 28, 28, 28, 28, 28, 29, 29,\n",
       "       29, 29, 29, 29, 29, 29, 29, 29, 29, 30, 30, 30, 30, 30, 30, 30, 30,\n",
       "       30, 30, 30, 31, 31, 31, 31, 31, 31, 31, 31, 31, 31, 31, 32, 32, 32,\n",
       "       32, 32, 32, 32, 32, 32, 32, 32, 33, 33, 33, 33, 33, 33, 33, 33, 33,\n",
       "       33, 33, 34, 34, 34, 34, 34, 34, 34, 34, 34, 34, 34, 35, 35, 35, 35,\n",
       "       35, 35, 35, 35, 35, 35, 35, 36, 36, 36, 36, 36, 36, 36, 36, 36, 36,\n",
       "       36, 37, 37, 37, 37, 37, 37, 37, 37, 37, 37, 37, 38, 38, 38, 38, 38,\n",
       "       38, 38, 38, 38, 38, 38, 39, 39, 39, 39, 39, 39, 39, 39, 39, 39, 39,\n",
       "       40, 40, 40, 40, 40, 40, 40, 40, 40, 40, 40, 41, 41, 41, 41, 41, 41,\n",
       "       41, 41, 41, 41, 41, 42, 42, 42, 42, 42, 42, 42, 42, 42, 42, 42, 43,\n",
       "       43, 43, 43, 43, 43, 43, 43, 43, 43, 43, 44, 44, 44, 44, 44, 44, 44,\n",
       "       44, 44, 44, 44, 45, 45, 45, 45, 45, 45, 45, 45, 45, 45, 45, 46, 46,\n",
       "       46, 46, 46, 46, 46, 46, 46, 46, 46, 47, 47, 47, 47, 47, 47, 47, 47,\n",
       "       47, 47, 47, 48, 48, 48, 48, 48, 48, 48, 48, 48, 48, 48, 49, 49, 49,\n",
       "       49, 49, 49, 49, 49, 49, 49, 49])"
      ]
     },
     "execution_count": 9,
     "metadata": {},
     "output_type": "execute_result"
    }
   ],
   "source": [
    "group"
   ]
  },
  {
   "cell_type": "code",
   "execution_count": 10,
   "id": "7120c51a",
   "metadata": {},
   "outputs": [
    {
     "name": "stdout",
     "output_type": "stream",
     "text": [
      "0.9166666666666666\n",
      "0.9166666666666666\n",
      "1.0\n",
      "0.5833333333333334\n",
      "1.0\n",
      "1.0\n",
      "0.9166666666666666\n",
      "0.75\n",
      "1.0\n",
      "1.0\n",
      "1.0\n",
      "0.9166666666666666\n",
      "0.9166666666666666\n",
      "0.9166666666666666\n",
      "1.0\n",
      "1.0\n",
      "0.9166666666666666\n",
      "0.9166666666666666\n",
      "1.0\n",
      "0.9090909090909091\n",
      "1.0\n",
      "0.9090909090909091\n",
      "1.0\n",
      "1.0\n",
      "0.9090909090909091\n",
      "0.9090909090909091\n",
      "1.0\n",
      "1.0\n",
      "1.0\n",
      "0.9090909090909091\n",
      "1.0\n",
      "1.0\n",
      "1.0\n",
      "0.9090909090909091\n",
      "1.0\n",
      "0.9090909090909091\n",
      "1.0\n",
      "1.0\n",
      "1.0\n",
      "0.9090909090909091\n",
      "0.9090909090909091\n",
      "0.9090909090909091\n",
      "0.9090909090909091\n",
      "1.0\n",
      "1.0\n",
      "1.0\n",
      "1.0\n",
      "0.8181818181818182\n",
      "1.0\n",
      "1.0\n"
     ]
    }
   ],
   "source": [
    "from sklearn.model_selection import LeaveOneGroupOut\n",
    "loocv = LeaveOneGroupOut()\n",
    "\n",
    "for train_index, test_index in loocv.split(X, y, group): # splitの引数にgroupを使う\n",
    "\n",
    "    X_train, X_test = X[train_index], X[test_index]\n",
    "    y_train, y_test = y[train_index], y[test_index]\n",
    "    \n",
    "    clf.fit(X_train, y_train)\n",
    "    print(clf.score(X_test, y_test))"
   ]
  },
  {
   "cell_type": "code",
   "execution_count": null,
   "id": "8e8a3ce2",
   "metadata": {},
   "outputs": [],
   "source": [
    "from sklearn.model_selection import cross_val_score\n",
    "scores = cross_val_score(clf,      X, y, \n",
    "                         groups=group, \n",
    "                         cv=loocv) # LeaveOneGroupOut"
   ]
  }
 ],
 "metadata": {
  "kernelspec": {
   "display_name": "Python 3 (ipykernel)",
   "language": "python",
   "name": "python3"
  },
  "language_info": {
   "codemirror_mode": {
    "name": "ipython",
    "version": 3
   },
   "file_extension": ".py",
   "mimetype": "text/x-python",
   "name": "python",
   "nbconvert_exporter": "python",
   "pygments_lexer": "ipython3",
   "version": "3.11.3"
  }
 },
 "nbformat": 4,
 "nbformat_minor": 5
}

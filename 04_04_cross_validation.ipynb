{
 "cells": [
  {
   "cell_type": "code",
   "execution_count": 1,
   "id": "95e58780",
   "metadata": {},
   "outputs": [
    {
     "name": "stdout",
     "output_type": "stream",
     "text": [
      "0.9298245614035088\n",
      "0.9473684210526315\n",
      "1.0\n",
      "0.9649122807017544\n",
      "0.9649122807017544\n",
      "0.9473684210526315\n",
      "0.9298245614035088\n",
      "0.9824561403508771\n",
      "0.8771929824561403\n",
      "0.9821428571428571\n"
     ]
    }
   ],
   "source": [
    "import numpy as np\n",
    "\n",
    "from sklearn.datasets import load_breast_cancer\n",
    "data = load_breast_cancer()\n",
    "\n",
    "X = data.data\n",
    "y = data.target\n",
    "\n",
    "from sklearn import linear_model\n",
    "clf = linear_model.LogisticRegression(solver='liblinear')\n",
    "\n",
    "from sklearn.model_selection import KFold\n",
    "ss = KFold(n_splits=10, shuffle=True) # 10分割\n",
    "\n",
    "for train_index, test_index in ss.split(X, y):\n",
    "\n",
    "    X_train, X_test = X[train_index], X[test_index]\n",
    "    y_train, y_test = y[train_index], y[test_index]\n",
    "    \n",
    "    clf.fit(X_train, y_train)\n",
    "    print(clf.score(X_test, y_test))"
   ]
  },
  {
   "cell_type": "code",
   "execution_count": 3,
   "id": "f6e302b0",
   "metadata": {},
   "outputs": [
    {
     "name": "stdout",
     "output_type": "stream",
     "text": [
      "(array([0, 1]), array([212, 357]))\n",
      "[0.37258348 0.62741652]\n"
     ]
    }
   ],
   "source": [
    "print(np.unique(y, return_counts=True))\n",
    "print(np.unique(y, return_counts=True)[1] / y.size)\n",
    "# クラスバランスの確認"
   ]
  },
  {
   "cell_type": "code",
   "execution_count": 4,
   "id": "f371fe25",
   "metadata": {},
   "outputs": [
    {
     "name": "stdout",
     "output_type": "stream",
     "text": [
      "[0.375 0.625] 512 [0.35087719 0.64912281] 57\n",
      "[0.359375 0.640625] 512 [0.49122807 0.50877193] 57\n",
      "[0.37109375 0.62890625] 512 [0.38596491 0.61403509] 57\n",
      "[0.36132812 0.63867188] 512 [0.47368421 0.52631579] 57\n",
      "[0.37695312 0.62304688] 512 [0.33333333 0.66666667] 57\n",
      "[0.37304688 0.62695312] 512 [0.36842105 0.63157895] 57\n",
      "[0.38085938 0.61914062] 512 [0.29824561 0.70175439] 57\n",
      "[0.37695312 0.62304688] 512 [0.33333333 0.66666667] 57\n",
      "[0.37109375 0.62890625] 512 [0.38596491 0.61403509] 57\n",
      "[0.38011696 0.61988304] 513 [0.30357143 0.69642857] 56\n"
     ]
    }
   ],
   "source": [
    "ss = KFold(n_splits=10, shuffle=True)\n",
    "\n",
    "for train_index, test_index in ss.split(X, y):\n",
    "\n",
    "    X_train, X_test = X[train_index], X[test_index]\n",
    "    y_train, y_test = y[train_index], y[test_index]\n",
    "    \n",
    "    print(np.unique(y_train, return_counts=True)[1] / y_train.size, y_train.size, \n",
    "          np.unique(y_test,  return_counts=True)[1] / y_test.size,  y_test.size)\n",
    "# クラスバランスを保ちながら、学習データとテストデータに分かれているか → stratifiedになっていない"
   ]
  },
  {
   "cell_type": "code",
   "execution_count": 6,
   "id": "8dab97e9",
   "metadata": {},
   "outputs": [
    {
     "name": "stdout",
     "output_type": "stream",
     "text": [
      "[0.37109375 0.62890625] 512 [0.38596491 0.61403509] 57\n",
      "[0.37109375 0.62890625] 512 [0.38596491 0.61403509] 57\n",
      "[0.37304688 0.62695312] 512 [0.36842105 0.63157895] 57\n",
      "[0.37304688 0.62695312] 512 [0.36842105 0.63157895] 57\n",
      "[0.37304688 0.62695312] 512 [0.36842105 0.63157895] 57\n",
      "[0.37304688 0.62695312] 512 [0.36842105 0.63157895] 57\n",
      "[0.37304688 0.62695312] 512 [0.36842105 0.63157895] 57\n",
      "[0.37304688 0.62695312] 512 [0.36842105 0.63157895] 57\n",
      "[0.37304688 0.62695312] 512 [0.36842105 0.63157895] 57\n",
      "[0.37231969 0.62768031] 513 [0.375 0.625] 56\n"
     ]
    }
   ],
   "source": [
    "from sklearn.model_selection import StratifiedKFold # stratifiedのKFoldを使う\n",
    "ss = StratifiedKFold(n_splits=10, shuffle=True)\n",
    "\n",
    "for train_index, test_index in ss.split(X, y):\n",
    "\n",
    "    X_train, X_test = X[train_index], X[test_index]\n",
    "    y_train, y_test = y[train_index], y[test_index]\n",
    "    \n",
    "    print(np.unique(y_train, return_counts=True)[1] / y_train.size, y_train.size, \n",
    "          np.unique(y_test,  return_counts=True)[1] / y_test.size,  y_test.size)\n",
    "    # クラスバランスが綺麗に保たれている"
   ]
  },
  {
   "cell_type": "code",
   "execution_count": 9,
   "id": "1c5783be",
   "metadata": {},
   "outputs": [],
   "source": [
    "from sklearn.model_selection import cross_val_score\n",
    "ave_score = cross_val_score(clf, X, y, cv=10) # StratifiedKFold"
   ]
  },
  {
   "cell_type": "code",
   "execution_count": 10,
   "id": "c93558fb",
   "metadata": {},
   "outputs": [
    {
     "name": "stdout",
     "output_type": "stream",
     "text": [
      "95.08 +/- 1.88 %\n"
     ]
    }
   ],
   "source": [
    "print(\"{0:4.2f} +/- {1:4.2f} %\".format(ave_score.mean() * 100, ave_score.std() * 100))"
   ]
  },
  {
   "cell_type": "code",
   "execution_count": null,
   "id": "25070a4a",
   "metadata": {},
   "outputs": [],
   "source": []
  }
 ],
 "metadata": {
  "kernelspec": {
   "display_name": "Python 3 (ipykernel)",
   "language": "python",
   "name": "python3"
  },
  "language_info": {
   "codemirror_mode": {
    "name": "ipython",
    "version": 3
   },
   "file_extension": ".py",
   "mimetype": "text/x-python",
   "name": "python",
   "nbconvert_exporter": "python",
   "pygments_lexer": "ipython3",
   "version": "3.11.3"
  }
 },
 "nbformat": 4,
 "nbformat_minor": 5
}
